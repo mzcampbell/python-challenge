{
 "cells": [
  {
   "cell_type": "code",
   "execution_count": 19,
   "id": "1a10e134",
   "metadata": {},
   "outputs": [],
   "source": [
    "import csv\n"
   ]
  },
  {
   "cell_type": "code",
   "execution_count": 20,
   "id": "e4ada3f6",
   "metadata": {},
   "outputs": [],
   "source": [
    "file_to_load = \"budget_data.csv\""
   ]
  },
  {
   "cell_type": "code",
   "execution_count": 21,
   "id": "21b18790",
   "metadata": {},
   "outputs": [],
   "source": [
    "file_to_output = \"budget_analysis_1.txt\""
   ]
  },
  {
   "cell_type": "code",
   "execution_count": 22,
   "id": "d4d51211",
   "metadata": {},
   "outputs": [],
   "source": [
    "total_months = 0\n",
    "prev_revenue = 0\n",
    "month_of_change = []\n",
    "revenue_change_list = []\n",
    "greatest_increase = [\"\",0]\n",
    "greatest_decrease = [\"\",99999999999999999999999]\n",
    "total_revenue = 0"
   ]
  },
  {
   "cell_type": "code",
   "execution_count": 31,
   "id": "1814fbdc",
   "metadata": {},
   "outputs": [],
   "source": [
    "with open(file_to_load) as revenue_data:\n",
    "    reader = csv.DictReader(revenue_data)\n",
    "    \n",
    "    for row in reader:\n",
    "        \n",
    "        total_months = total_months + 1\n",
    "        total_revenue = total_revenue + int(row[\"Profit/Losses\"])\n",
    "        \n",
    "        revenue_change = int(row[\"Profit/Losses\"]) - prev_revenue\n",
    "        prev_revenue = int(row[\"Profit/Losses\"])\n",
    "        revenue_change_list = revenue_change_list + [revenue_change]\n",
    "        month_of_change = month_of_change + [row[\"Date\"]]\n",
    "        \n",
    "        if (revenue_change > greatest_increase[1]):\n",
    "            greatest_increase[0] = row[\"Date\"]\n",
    "            greatest_increase[1] = revenue_change\n",
    "        \n",
    "        if (revenue_change < greatest_decrease[1]):\n",
    "            greatest_decrease [0] = row[\"Date\"]\n",
    "            greatest_decrease[1] = revenue_change\n",
    "            "
   ]
  },
  {
   "cell_type": "code",
   "execution_count": 24,
   "id": "652e8902",
   "metadata": {},
   "outputs": [],
   "source": [
    "revenue_avg = sum(revenue_change_list) / len(revenue_change_list)"
   ]
  },
  {
   "cell_type": "code",
   "execution_count": 25,
   "id": "2d50bbad",
   "metadata": {},
   "outputs": [],
   "source": [
    "output = (\n",
    "    f\"\\nFinancial Anaysis\\n\"\n",
    "    f\"-------------------\\n\"\n",
    "    f\"Total Months: {total_months}\\n\"\n",
    "    f\"Total Revenue: ${total_revenue}\\n\"\n",
    "    f\"Average Revenue Change: ${revenue_avg}\\n\"\n",
    "    f\"Greatest Increase in Revenue: {greatest_increase[0]} (${greatest_increase[1]})\\n\"\n",
    "    f\"Greatest Decrease in Revenue: {greatest_decrease[0]} (${greatest_decrease[1]})\\n\")"
   ]
  },
  {
   "cell_type": "code",
   "execution_count": 26,
   "id": "8abeee20",
   "metadata": {},
   "outputs": [
    {
     "name": "stdout",
     "output_type": "stream",
     "text": [
      "\n",
      "Financial Anaysis\n",
      "-------------------\n",
      "Total Monts: 86\n",
      "Total Revenue: $22564198\n",
      "Average Revenue Change: $4448.127906976744\n",
      "Greatest Increase in Revenue: Aug-16 ($1862002)\n",
      "Greatest Decrease in Revenue: Feb-14 ($-1825558)\n",
      "\n"
     ]
    }
   ],
   "source": [
    "print(output)"
   ]
  },
  {
   "cell_type": "code",
   "execution_count": 27,
   "id": "ac6fbfb8",
   "metadata": {},
   "outputs": [],
   "source": [
    "with open(file_to_output, \"w\") as txt_file:\n",
    "    txt_file.write(output)"
   ]
  }
 ],
 "metadata": {
  "kernelspec": {
   "display_name": "Python 3 (ipykernel)",
   "language": "python",
   "name": "python3"
  },
  "language_info": {
   "codemirror_mode": {
    "name": "ipython",
    "version": 3
   },
   "file_extension": ".py",
   "mimetype": "text/x-python",
   "name": "python",
   "nbconvert_exporter": "python",
   "pygments_lexer": "ipython3",
   "version": "3.9.12"
  }
 },
 "nbformat": 4,
 "nbformat_minor": 5
}
