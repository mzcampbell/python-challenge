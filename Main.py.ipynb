{
 "cells": [
  {
   "cell_type": "code",
   "execution_count": 1,
   "id": "4d921de7",
   "metadata": {},
   "outputs": [],
   "source": [
    "import csv"
   ]
  },
  {
   "cell_type": "code",
   "execution_count": 2,
   "id": "3f995c15",
   "metadata": {},
   "outputs": [],
   "source": [
    "file_to_load = \"election_data.csv\""
   ]
  },
  {
   "cell_type": "code",
   "execution_count": 3,
   "id": "4bec6979",
   "metadata": {},
   "outputs": [],
   "source": [
    "file_to_output = \"election_analysis.txt\""
   ]
  },
  {
   "cell_type": "code",
   "execution_count": 4,
   "id": "efb1bede",
   "metadata": {},
   "outputs": [],
   "source": [
    "#votes comes from ballot id?\n",
    "votes = 0\n",
    "total_candidates = 0\n",
    "winner_votes = 0 \n",
    "candidates_1 = []\n",
    "candidate_votes = {}\n",
    "greatest_votes = [\"\",0]\n"
   ]
  },
  {
   "cell_type": "code",
   "execution_count": 5,
   "id": "cd4c4b74",
   "metadata": {},
   "outputs": [
    {
     "data": {
      "text/plain": [
       "{'Charles Casper Stockham': 85213,\n",
       " 'Diana DeGette': 272892,\n",
       " 'Raymon Anthony Doane': 11606}"
      ]
     },
     "execution_count": 5,
     "metadata": {},
     "output_type": "execute_result"
    }
   ],
   "source": [
    "with open(file_to_load) as election_data :\n",
    "    reader = csv.reader(election_data)\n",
    "    headers = next(reader)\n",
    "    \n",
    "    \n",
    "    for row in reader:\n",
    "        \n",
    "        Candidate = row[2]\n",
    "    \n",
    "    \n",
    "        votes = votes + 1\n",
    "        \n",
    "        \n",
    "        \n",
    "        if row[2] not in candidates_1:\n",
    "            candidates_1.append(Candidate)\n",
    "            candidate_votes[Candidate] = 0\n",
    "            \n",
    "            \n",
    "        \n",
    "        candidate_votes[Candidate] = candidate_votes[Candidate] + 1\n",
    "            \n",
    "candidate_votes   "
   ]
  },
  {
   "cell_type": "code",
   "execution_count": 6,
   "id": "b9fcab5e",
   "metadata": {},
   "outputs": [
    {
     "name": "stdout",
     "output_type": "stream",
     "text": [
      "\n",
      "\n",
      "\n",
      "Elections Results\n",
      "-----------------\n",
      "Total Votes: 369711\n",
      "-----------------\n"
     ]
    }
   ],
   "source": [
    "print()\n",
    "print()\n",
    "print()\n",
    "print(\"Elections Results\")\n",
    "print(\"-----------------\")\n",
    "print(\"Total Votes: \" + str(votes))\n",
    "print(\"-----------------\")"
   ]
  },
  {
   "cell_type": "code",
   "execution_count": 7,
   "id": "e9544822",
   "metadata": {},
   "outputs": [
    {
     "name": "stdout",
     "output_type": "stream",
     "text": [
      "Percentage Vote for Stockham is 23.05% \n",
      "\n",
      "Percentage Vote for DeGette is %\n"
     ]
    }
   ],
   "source": [
    "Stock_votes = candidate_votes[\"Charles Casper Stockham\"]\n",
    "DeGette_votes = candidate_votes[\"Diana DeGette\"]\n",
    "Doane_votes = candidate_votes[\"Raymon Anthony Doane\"]\n",
    "\n",
    "Stock_percent = (Stock_votes/votes)*100\n",
    "Stock_percent_round = round(Stock_percent,2)\n",
    "Stock_percent_round\n",
    "\n",
    "DeGette_percent = (DeGette_votes/votes)*100\n",
    "DeGette_percent_round = round(DeGette_percent,2)\n",
    "DeGette_percent_round\n",
    "\n",
    "Doane_percent = (Doane_votes/votes)*100\n",
    "Doane_percent_round = round(Doane_percent,2)\n",
    "Doane_percent_round\n",
    "\n",
    "print(f'Percentage Vote for Stockham is {Stock_percent_round}% \\n')\n",
    "print(f'Percentage Vote for DeGette is %') "
   ]
  },
  {
   "cell_type": "code",
   "execution_count": 8,
   "id": "29fc809d",
   "metadata": {},
   "outputs": [
    {
     "data": {
      "text/plain": [
       "{'Charles Casper Stockham': 85213,\n",
       " 'Diana DeGette': 272892,\n",
       " 'Raymon Anthony Doane': 11606}"
      ]
     },
     "execution_count": 8,
     "metadata": {},
     "output_type": "execute_result"
    }
   ],
   "source": [
    "candidate_votes"
   ]
  },
  {
   "cell_type": "code",
   "execution_count": 12,
   "id": "56924837",
   "metadata": {},
   "outputs": [],
   "source": [
    "with open(file_to_output, \"w\") as textbox:\n",
    "    summary = (f'Elections Results \\n'\n",
    "              f'------------------- \\n'\n",
    "              f'Total Votes:  +str(votes) \\n'\n",
    "              f'Charles Casper Stockham: {Stock_percent_round}% ({Stock_votes})\\n'\n",
    "              f'Diana DeGette: {DeGette_percent_round}% ({DeGette_votes})\\n'\n",
    "              f'Raymond Anthony Doane: {Doane_percent_round}% ({Doane_votes}) \\n'\n",
    "              f' --------------------\\n'\n",
    "              f'Winner: Diana DeGette')\n",
    "    textbox.write(summary)"
   ]
  }
 ],
 "metadata": {
  "kernelspec": {
   "display_name": "Python 3 (ipykernel)",
   "language": "python",
   "name": "python3"
  },
  "language_info": {
   "codemirror_mode": {
    "name": "ipython",
    "version": 3
   },
   "file_extension": ".py",
   "mimetype": "text/x-python",
   "name": "python",
   "nbconvert_exporter": "python",
   "pygments_lexer": "ipython3",
   "version": "3.9.12"
  }
 },
 "nbformat": 4,
 "nbformat_minor": 5
}
